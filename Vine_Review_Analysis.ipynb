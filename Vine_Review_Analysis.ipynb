{
  "nbformat": 4,
  "nbformat_minor": 0,
  "metadata": {
    "colab": {
      "name": "Vine_Review_Analysis",
      "provenance": []
    },
    "kernelspec": {
      "name": "python3",
      "display_name": "Python 3"
    },
    "language_info": {
      "name": "python"
    }
  },
  "cells": [
    {
      "cell_type": "code",
      "metadata": {
        "colab": {
          "base_uri": "https://localhost:8080/"
        },
        "id": "TUuW02hQzrz7",
        "outputId": "6a57e407-eb6a-457f-cd4f-47388b9e21bc"
      },
      "source": [
        "import os\n",
        "# Find the latest version of spark 3.0 from http://www.apache.org/dist/spark/ and enter as the spark version\n",
        "# For example:\n",
        "# spark_version = 'spark-3.0.3'\n",
        "spark_version = 'spark-3.0.3'\n",
        "os.environ['SPARK_VERSION']=spark_version\n",
        "\n",
        "# Install Spark and Java\n",
        "!apt-get update\n",
        "!apt-get install openjdk-11-jdk-headless -qq > /dev/null\n",
        "!wget -q http://www.apache.org/dist/spark/$SPARK_VERSION/$SPARK_VERSION-bin-hadoop2.7.tgz\n",
        "!tar xf $SPARK_VERSION-bin-hadoop2.7.tgz\n",
        "!pip install -q findspark\n",
        "\n",
        "# Set Environment Variables\n",
        "import os\n",
        "os.environ[\"JAVA_HOME\"] = \"/usr/lib/jvm/java-11-openjdk-amd64\"\n",
        "os.environ[\"SPARK_HOME\"] = f\"/content/{spark_version}-bin-hadoop2.7\"\n",
        "\n",
        "# Start a SparkSession\n",
        "import findspark\n",
        "findspark.init()"
      ],
      "execution_count": 1,
      "outputs": [
        {
          "output_type": "stream",
          "name": "stdout",
          "text": [
            "\r0% [Working]\r            \rGet:1 http://security.ubuntu.com/ubuntu bionic-security InRelease [88.7 kB]\n",
            "Get:2 https://cloud.r-project.org/bin/linux/ubuntu bionic-cran40/ InRelease [3,626 B]\n",
            "Ign:3 https://developer.download.nvidia.com/compute/cuda/repos/ubuntu1804/x86_64  InRelease\n",
            "Get:4 http://ppa.launchpad.net/c2d4u.team/c2d4u4.0+/ubuntu bionic InRelease [15.9 kB]\n",
            "Hit:5 http://archive.ubuntu.com/ubuntu bionic InRelease\n",
            "Ign:6 https://developer.download.nvidia.com/compute/machine-learning/repos/ubuntu1804/x86_64  InRelease\n",
            "Get:7 https://developer.download.nvidia.com/compute/cuda/repos/ubuntu1804/x86_64  Release [696 B]\n",
            "Hit:8 https://developer.download.nvidia.com/compute/machine-learning/repos/ubuntu1804/x86_64  Release\n",
            "Get:9 https://developer.download.nvidia.com/compute/cuda/repos/ubuntu1804/x86_64  Release.gpg [836 B]\n",
            "Get:10 http://archive.ubuntu.com/ubuntu bionic-updates InRelease [88.7 kB]\n",
            "Hit:11 http://ppa.launchpad.net/cran/libgit2/ubuntu bionic InRelease\n",
            "Get:12 http://archive.ubuntu.com/ubuntu bionic-backports InRelease [74.6 kB]\n",
            "Hit:13 http://ppa.launchpad.net/deadsnakes/ppa/ubuntu bionic InRelease\n",
            "Hit:14 http://ppa.launchpad.net/graphics-drivers/ppa/ubuntu bionic InRelease\n",
            "Get:15 http://security.ubuntu.com/ubuntu bionic-security/universe amd64 Packages [1,442 kB]\n",
            "Get:16 http://security.ubuntu.com/ubuntu bionic-security/main amd64 Packages [2,430 kB]\n",
            "Get:18 https://developer.download.nvidia.com/compute/cuda/repos/ubuntu1804/x86_64  Packages [828 kB]\n",
            "Get:19 http://ppa.launchpad.net/c2d4u.team/c2d4u4.0+/ubuntu bionic/main Sources [1,813 kB]\n",
            "Get:20 http://archive.ubuntu.com/ubuntu bionic-updates/main amd64 Packages [2,868 kB]\n",
            "Get:21 http://ppa.launchpad.net/c2d4u.team/c2d4u4.0+/ubuntu bionic/main amd64 Packages [930 kB]\n",
            "Get:22 http://archive.ubuntu.com/ubuntu bionic-updates/universe amd64 Packages [2,224 kB]\n",
            "Fetched 12.8 MB in 5s (2,824 kB/s)\n",
            "Reading package lists... Done\n"
          ]
        }
      ]
    },
    {
      "cell_type": "code",
      "metadata": {
        "colab": {
          "base_uri": "https://localhost:8080/"
        },
        "id": "Jxg0km4N0t07",
        "outputId": "d1c6558c-3eb2-422d-ba9e-a694d97ec90b"
      },
      "source": [
        "# Download the Postgres driver that will allow Spark to interact with Postgres.\n",
        "!wget https://jdbc.postgresql.org/download/postgresql-42.2.16.jar"
      ],
      "execution_count": 2,
      "outputs": [
        {
          "output_type": "stream",
          "name": "stdout",
          "text": [
            "--2021-11-25 15:59:45--  https://jdbc.postgresql.org/download/postgresql-42.2.16.jar\n",
            "Resolving jdbc.postgresql.org (jdbc.postgresql.org)... 72.32.157.228, 2001:4800:3e1:1::228\n",
            "Connecting to jdbc.postgresql.org (jdbc.postgresql.org)|72.32.157.228|:443... connected.\n",
            "HTTP request sent, awaiting response... 200 OK\n",
            "Length: 1002883 (979K) [application/java-archive]\n",
            "Saving to: ‘postgresql-42.2.16.jar’\n",
            "\n",
            "postgresql-42.2.16. 100%[===================>] 979.38K  --.-KB/s    in 0.1s    \n",
            "\n",
            "2021-11-25 15:59:45 (6.54 MB/s) - ‘postgresql-42.2.16.jar’ saved [1002883/1002883]\n",
            "\n"
          ]
        }
      ]
    },
    {
      "cell_type": "code",
      "metadata": {
        "id": "FpvSIHrC0xNq"
      },
      "source": [
        "from pyspark.sql import SparkSession\n",
        "spark = SparkSession.builder.appName(\"M16-Amazon-Challenge\").config(\"spark.driver.extraClassPath\",\"/content/postgresql-42.2.16.jar\").getOrCreate()"
      ],
      "execution_count": 3,
      "outputs": []
    },
    {
      "cell_type": "code",
      "metadata": {
        "colab": {
          "base_uri": "https://localhost:8080/"
        },
        "id": "ymprda04091L",
        "outputId": "6d5a1b57-289b-4531-905b-77f3553348cc"
      },
      "source": [
        "from pyspark import SparkFiles\n",
        "url = \"https://s3.amazonaws.com/amazon-reviews-pds/tsv/amazon_reviews_us_Beauty_v1_00.tsv.gz\"\n",
        "spark.sparkContext.addFile(url)\n",
        "df = spark.read.option(\"encoding\", \"UTF-8\").csv(SparkFiles.get(\"\"), sep=\"\\t\", header=True, inferSchema=True)\n",
        "df.show()"
      ],
      "execution_count": 4,
      "outputs": [
        {
          "output_type": "stream",
          "name": "stdout",
          "text": [
            "+-----------+-----------+--------------+----------+--------------+--------------------+----------------+-----------+-------------+-----------+----+-----------------+--------------------+---------------------+-----------+\n",
            "|marketplace|customer_id|     review_id|product_id|product_parent|       product_title|product_category|star_rating|helpful_votes|total_votes|vine|verified_purchase|     review_headline|          review_body|review_date|\n",
            "+-----------+-----------+--------------+----------+--------------+--------------------+----------------+-----------+-------------+-----------+----+-----------------+--------------------+---------------------+-----------+\n",
            "|         US|    1797882|R3I2DHQBR577SS|B001ANOOOE|       2102612|The Naked Bee Vit...|          Beauty|          5|            0|          0|   N|                Y|          Five Stars| Love this, excell...| 2015-08-31|\n",
            "|         US|   18381298|R1QNE9NQFJC2Y4|B0016J22EQ|     106393691|Alba Botanica Sun...|          Beauty|          5|            0|          0|   N|                Y|Thank you Alba Bo...| The great thing a...| 2015-08-31|\n",
            "|         US|   19242472|R3LIDG2Q4LJBAO|B00HU6UQAG|     375449471|Elysee Infusion S...|          Beauty|          5|            0|          0|   N|                Y|          Five Stars| Great Product, I'...| 2015-08-31|\n",
            "|         US|   19551372|R3KSZHPAEVPEAL|B002HWS7RM|     255651889|Diane D722 Color,...|          Beauty|          5|            0|          0|   N|                Y|          GOOD DEAL!| I use them as sho...| 2015-08-31|\n",
            "|         US|   14802407| RAI2OIG50KZ43|B00SM99KWU|     116158747|Biore UV Aqua Ric...|          Beauty|          5|            0|          0|   N|                Y|this soaks in qui...| This is my go-to ...| 2015-08-31|\n",
            "|         US|    2909389|R1R30FA4RB5P54|B000NYL1Z6|     166146615|Murad Clarifying ...|          Beauty|          4|            0|          0|   N|                Y|          Four Stars|                 Good| 2015-08-31|\n",
            "|         US|   19397215|R30IJKCGJBGPJH|B001SYWTFG|     111742328|CoverGirl Queen C...|          Beauty|          5|            0|          0|   N|                Y|            Good buy| Great eyeliner, d...| 2015-08-31|\n",
            "|         US|    3195210|R18GLJJPVQ1OVH|B005F2EVMQ|     255803087|Bifesta Mandom Ey...|          Beauty|          5|            0|          0|   N|                Y|          Five Stars|Best makeup remover！| 2015-08-31|\n",
            "|         US|   52216383| R8TVYIJXLYJT0|B00M1SUW7K|     246816549|Can You Handlebar...|          Beauty|          5|            0|          0|   N|                Y|Tame the wild mus...| This is a great p...| 2015-08-31|\n",
            "|         US|   10278216|R1CJGF6M3PVHEZ|B001KYQA1S|       9612905|Maybelline Great ...|          Beauty|          1|            0|          2|   N|                Y|but it's like hav...| I thought it woul...| 2015-08-31|\n",
            "|         US|   24655453|R2A30ALEGLMCGN|B00SAQ9DZY|     292127037|12 New, High Qual...|          Beauty|          4|            1|          1|   N|                Y|        Good Product| These are great f...| 2015-08-31|\n",
            "|         US|   30788223|R134GP1Y3EQZ1L|B00HFQQ0VU|     311309827|Waterpik Aquarius...|          Beauty|          5|            0|          0|   N|                Y| Optimum Oral Health| Just got this.  N...| 2015-08-31|\n",
            "|         US|   11257536| R6CE3SOIUJGP4|B00PYL8MAA|     390030149|Proganix Agave Ne...|          Beauty|          4|            1|          1|   N|                N|   Love this cream !| Wish I had discov...| 2015-08-31|\n",
            "|         US|   29605778|R37CDLQZUPDZVM|B00D9NV2D4|     794858888|         Shea Butter|          Beauty|          5|            0|          0|   N|                Y|It works so much ...| I bought this to ...| 2015-08-31|\n",
            "|         US|   41238422|R1KH9XCK6GYT26|B008Y9M412|     874223919|Etude House Fresh...|          Beauty|          5|            0|          0|   N|                Y|          Five Stars| The tint is aweso...| 2015-08-31|\n",
            "|         US|   23620123|R3I4BQ6654MQNA|B00FWXBLHG|     464001209|Vintage Lil' Spon...|          Beauty|          5|            1|          1|   N|                Y|Great product, fa...| I'm in love with ...| 2015-08-31|\n",
            "|         US|   25564245|R3LUPG356F1D40|B003KL8CB0|     328680790|Jenna Jameson Hea...|          Beauty|          5|            3|          3|   N|                N|Does not smell ch...| I was given this ...| 2015-08-31|\n",
            "|         US|     801375|R3HNVRTHL9S2ZB|B006R2LNV0|     620737389|Korean Cosmetics_...|          Beauty|          5|            0|          0|   N|                N|          Five Stars| Magical everybody...| 2015-08-31|\n",
            "|         US|    9478730| R5HKL5RD4IUT8|B00SMIIR0W|     351973146|Schick Hydro Silk...|          Beauty|          5|            0|          0|   N|                Y|Love this Razor/T...| Works fantastic! ...| 2015-08-31|\n",
            "|         US|   18418407|R37Z8NBTHPR853|B003UKKH6O|      10034795|Oral-B Vitality P...|          Beauty|          5|            0|          0|   N|                Y|          Five Stars| excellent battery...| 2015-08-31|\n",
            "+-----------+-----------+--------------+----------+--------------+--------------------+----------------+-----------+-------------+-----------+----+-----------------+--------------------+---------------------+-----------+\n",
            "only showing top 20 rows\n",
            "\n"
          ]
        }
      ]
    },
    {
      "cell_type": "code",
      "metadata": {
        "id": "gv9a8zDG1A9x"
      },
      "source": [
        "#### Create DataFrames to match tables\n",
        "from pyspark.sql.functions import to_date\n",
        "# Read in the Review dataset as a DataFrame"
      ],
      "execution_count": 5,
      "outputs": []
    },
    {
      "cell_type": "code",
      "metadata": {
        "colab": {
          "base_uri": "https://localhost:8080/"
        },
        "id": "FrcpHk9W4Iqw",
        "outputId": "d7550a95-9a6c-4246-870e-11df25b57f42"
      },
      "source": [
        "# Create the vine_table. DataFrame\n",
        "vine_df = df.select([\"review_id\",\"star_rating\",\"helpful_votes\",\"total_votes\",\"vine\",\"verified_purchase\"])\n",
        "vine_df.show()"
      ],
      "execution_count": 6,
      "outputs": [
        {
          "output_type": "stream",
          "name": "stdout",
          "text": [
            "+--------------+-----------+-------------+-----------+----+-----------------+\n",
            "|     review_id|star_rating|helpful_votes|total_votes|vine|verified_purchase|\n",
            "+--------------+-----------+-------------+-----------+----+-----------------+\n",
            "|R3I2DHQBR577SS|          5|            0|          0|   N|                Y|\n",
            "|R1QNE9NQFJC2Y4|          5|            0|          0|   N|                Y|\n",
            "|R3LIDG2Q4LJBAO|          5|            0|          0|   N|                Y|\n",
            "|R3KSZHPAEVPEAL|          5|            0|          0|   N|                Y|\n",
            "| RAI2OIG50KZ43|          5|            0|          0|   N|                Y|\n",
            "|R1R30FA4RB5P54|          4|            0|          0|   N|                Y|\n",
            "|R30IJKCGJBGPJH|          5|            0|          0|   N|                Y|\n",
            "|R18GLJJPVQ1OVH|          5|            0|          0|   N|                Y|\n",
            "| R8TVYIJXLYJT0|          5|            0|          0|   N|                Y|\n",
            "|R1CJGF6M3PVHEZ|          1|            0|          2|   N|                Y|\n",
            "|R2A30ALEGLMCGN|          4|            1|          1|   N|                Y|\n",
            "|R134GP1Y3EQZ1L|          5|            0|          0|   N|                Y|\n",
            "| R6CE3SOIUJGP4|          4|            1|          1|   N|                N|\n",
            "|R37CDLQZUPDZVM|          5|            0|          0|   N|                Y|\n",
            "|R1KH9XCK6GYT26|          5|            0|          0|   N|                Y|\n",
            "|R3I4BQ6654MQNA|          5|            1|          1|   N|                Y|\n",
            "|R3LUPG356F1D40|          5|            3|          3|   N|                N|\n",
            "|R3HNVRTHL9S2ZB|          5|            0|          0|   N|                N|\n",
            "| R5HKL5RD4IUT8|          5|            0|          0|   N|                Y|\n",
            "|R37Z8NBTHPR853|          5|            0|          0|   N|                Y|\n",
            "+--------------+-----------+-------------+-----------+----+-----------------+\n",
            "only showing top 20 rows\n",
            "\n"
          ]
        }
      ]
    },
    {
      "cell_type": "code",
      "metadata": {
        "colab": {
          "base_uri": "https://localhost:8080/"
        },
        "id": "4RWOA_j-5_Oj",
        "outputId": "14fa8f0c-c4f5-4cf7-cc5d-1a9f45878e0c"
      },
      "source": [
        "# Create DF with votes >20 votes.\n",
        "df_total = df.filter(df.total_votes >= 20)\n",
        "df_total.show()"
      ],
      "execution_count": 7,
      "outputs": [
        {
          "output_type": "stream",
          "name": "stdout",
          "text": [
            "+-----------+-----------+--------------+----------+--------------+--------------------+----------------+-----------+-------------+-----------+----+-----------------+--------------------+--------------------+-----------+\n",
            "|marketplace|customer_id|     review_id|product_id|product_parent|       product_title|product_category|star_rating|helpful_votes|total_votes|vine|verified_purchase|     review_headline|         review_body|review_date|\n",
            "+-----------+-----------+--------------+----------+--------------+--------------------+----------------+-----------+-------------+-----------+----+-----------------+--------------------+--------------------+-----------+\n",
            "|         US|   22393078|R2QRUE9REK8OUC|B00461F4PA|     608719013|Baby Foot Exfolia...|          Beauty|          5|           18|         23|   N|                Y|Better Than Any Pedi|First off, I'll s...| 2015-08-31|\n",
            "|         US|   46053231|R2POXRW6PXHXZG|B00OCJZ0GE|     717345177|Bed Head Little T...|          Beauty|          5|           25|         30|   N|                Y|       Great Crimper|This is a great c...| 2015-08-31|\n",
            "|         US|   31499430| RZN43XRZ89IIJ|B00VOK0V7M|     629138408|Stretch Mark & Sc...|          Beauty|          3|           10|         27|   N|                N|Very questionable...|Looking at this p...| 2015-08-31|\n",
            "|         US|   27682058|R29Q748WSHZ3SN|B001V9LQ0W|      44090072|AVEENO ACTIVE NAT...|          Beauty|          5|           23|         24|   N|                Y|Best hair restore...|This is fabulous ...| 2015-08-31|\n",
            "|         US|     333848| R46UL5G5HEPRZ|B00SX6XABO|     899819396|SnoreShield™ Adju...|          Beauty|          5|           18|         20|   N|                N|SnoreShield is aw...|I bought this ant...| 2015-08-31|\n",
            "|         US|   12553981|R2UQHSNWU6WTZX|B00HAT8EKW|     136225014|Moroccan Oil Sham...|          Beauty|          5|           74|         76|   N|                N|Love what the sha...|I love what both ...| 2015-08-31|\n",
            "|         US|   15257586|R2HSRI3D6E2M9Y|B004WOSOA8|     160713618|Vasocaine Numbing...|          Beauty|          5|           69|         71|   N|                Y|Best tattoo Spray...|Best tattoo Spray...| 2015-08-31|\n",
            "|         US|   19276831|R17ARFSDV555EW|B005WWQXB6|     807009289|Wet Brush Origina...|          Beauty|          1|           29|         29|   N|                Y|Better Than That ...|**Update!! Counte...| 2015-08-31|\n",
            "|         US|   42235766|R3GL5156FFEDQA|B000VPPUEA|     834747871|Bio-Oil Multiuse ...|          Beauty|          5|           20|         21|   N|                Y|This product works!!|This works!  Afte...| 2015-08-31|\n",
            "|         US|   30423413|R29KQJC9PIYWQS|B00V8PP7WC|      10772213|50, Clear, Empty,...|          Beauty|          5|           25|         26|   N|                Y|             Perfect|Work exactly as e...| 2015-08-31|\n",
            "|         US|   47837987| RYWUJT2A33VJH|B004VJ56AK|     495619476|Clarisonic Opal S...|          Beauty|          5|           20|         22|   N|                N|Her surgery was a...|I have had my Opa...| 2015-08-31|\n",
            "|         US|     314244|R1KH5L45CWI30I|B00SX6XABO|     899819396|SnoreShield™ Adju...|          Beauty|          5|           19|         20|   N|                N|      Give it a try!|One of my friend ...| 2015-08-31|\n",
            "|         US|    1407203|R1RKEBF47UEIVH|B00COGVWV4|     845309451|8 Lots Mix Color ...|          Beauty|          5|           26|         30|   N|                N|          Five Stars|Love it! Little h...| 2015-08-31|\n",
            "|         US|   42404264|R3N1SCGIU1LV1U|B00NK65R5O|     966582870|Best Anti Aging F...|          Beauty|          1|            2|         20|   N|                Y|            One Star|   Gift don't know.!| 2015-08-31|\n",
            "|         US|    2659185|R2WIB8BHF77XIG|B005G4YCHW|     269969003|Nature Made Prena...|          Beauty|          4|           69|         78|   N|                N| I liked these pills|I liked these pil...| 2015-08-31|\n",
            "|         US|   25415510|R20T4C0DA38YBD|B00ZORY924|     247229663|Gellen Temperatur...|          Beauty|          5|           22|         23|   N|                Y|IN LOVE! I was wo...|IN LOVE! I was wo...| 2015-08-31|\n",
            "|         US|    1094446| REUKY9DLNJXYF|B0084PXVX6|     236774785|Raw Unrefined Ivo...|          Beauty|          4|           21|         22|   N|                Y|       great product|I really love thi...| 2015-08-31|\n",
            "|         US|   23645612|R2OH5QLD7MGJTG|B0027VCNGO|      24106546|Seche Vite Dry Fa...|          Beauty|          5|           48|         48|   N|                Y| BEST top coat EVER!|I take my nail re...| 2015-08-31|\n",
            "|         US|   10721966|R179M7NOS1365W|B00OGUB23E|     638245716|Alina Skin Care V...|          Beauty|          5|           88|         91|   N|                Y|          Five Stars|                Good| 2015-08-31|\n",
            "|         US|   50463744|R2NPNCGM6T1JBA|B0076Q7WH0|     966701049|PURA D'OR Argan O...|          Beauty|          3|          253|        259|   N|                Y|Beware of fake re...|The main reason I...| 2015-08-31|\n",
            "+-----------+-----------+--------------+----------+--------------+--------------------+----------------+-----------+-------------+-----------+----+-----------------+--------------------+--------------------+-----------+\n",
            "only showing top 20 rows\n",
            "\n"
          ]
        }
      ]
    },
    {
      "cell_type": "code",
      "metadata": {
        "colab": {
          "base_uri": "https://localhost:8080/"
        },
        "id": "UsNjQVyd8gLn",
        "outputId": "f578e45b-02fe-4f37-e4fb-eaf2e75b808c"
      },
      "source": [
        "# Create DF where % of helpful votes > or = 50%.\n",
        "df_helpful = df_total.filter((df_total.helpful_votes / df_total.total_votes) >= 0.5)\n",
        "df_helpful.show()"
      ],
      "execution_count": 9,
      "outputs": [
        {
          "output_type": "stream",
          "name": "stdout",
          "text": [
            "+-----------+-----------+--------------+----------+--------------+--------------------+----------------+-----------+-------------+-----------+----+-----------------+--------------------+--------------------+-----------+\n",
            "|marketplace|customer_id|     review_id|product_id|product_parent|       product_title|product_category|star_rating|helpful_votes|total_votes|vine|verified_purchase|     review_headline|         review_body|review_date|\n",
            "+-----------+-----------+--------------+----------+--------------+--------------------+----------------+-----------+-------------+-----------+----+-----------------+--------------------+--------------------+-----------+\n",
            "|         US|   22393078|R2QRUE9REK8OUC|B00461F4PA|     608719013|Baby Foot Exfolia...|          Beauty|          5|           18|         23|   N|                Y|Better Than Any Pedi|First off, I'll s...| 2015-08-31|\n",
            "|         US|   46053231|R2POXRW6PXHXZG|B00OCJZ0GE|     717345177|Bed Head Little T...|          Beauty|          5|           25|         30|   N|                Y|       Great Crimper|This is a great c...| 2015-08-31|\n",
            "|         US|   27682058|R29Q748WSHZ3SN|B001V9LQ0W|      44090072|AVEENO ACTIVE NAT...|          Beauty|          5|           23|         24|   N|                Y|Best hair restore...|This is fabulous ...| 2015-08-31|\n",
            "|         US|     333848| R46UL5G5HEPRZ|B00SX6XABO|     899819396|SnoreShield™ Adju...|          Beauty|          5|           18|         20|   N|                N|SnoreShield is aw...|I bought this ant...| 2015-08-31|\n",
            "|         US|   12553981|R2UQHSNWU6WTZX|B00HAT8EKW|     136225014|Moroccan Oil Sham...|          Beauty|          5|           74|         76|   N|                N|Love what the sha...|I love what both ...| 2015-08-31|\n",
            "|         US|   15257586|R2HSRI3D6E2M9Y|B004WOSOA8|     160713618|Vasocaine Numbing...|          Beauty|          5|           69|         71|   N|                Y|Best tattoo Spray...|Best tattoo Spray...| 2015-08-31|\n",
            "|         US|   19276831|R17ARFSDV555EW|B005WWQXB6|     807009289|Wet Brush Origina...|          Beauty|          1|           29|         29|   N|                Y|Better Than That ...|**Update!! Counte...| 2015-08-31|\n",
            "|         US|   42235766|R3GL5156FFEDQA|B000VPPUEA|     834747871|Bio-Oil Multiuse ...|          Beauty|          5|           20|         21|   N|                Y|This product works!!|This works!  Afte...| 2015-08-31|\n",
            "|         US|   30423413|R29KQJC9PIYWQS|B00V8PP7WC|      10772213|50, Clear, Empty,...|          Beauty|          5|           25|         26|   N|                Y|             Perfect|Work exactly as e...| 2015-08-31|\n",
            "|         US|   47837987| RYWUJT2A33VJH|B004VJ56AK|     495619476|Clarisonic Opal S...|          Beauty|          5|           20|         22|   N|                N|Her surgery was a...|I have had my Opa...| 2015-08-31|\n",
            "|         US|     314244|R1KH5L45CWI30I|B00SX6XABO|     899819396|SnoreShield™ Adju...|          Beauty|          5|           19|         20|   N|                N|      Give it a try!|One of my friend ...| 2015-08-31|\n",
            "|         US|    1407203|R1RKEBF47UEIVH|B00COGVWV4|     845309451|8 Lots Mix Color ...|          Beauty|          5|           26|         30|   N|                N|          Five Stars|Love it! Little h...| 2015-08-31|\n",
            "|         US|    2659185|R2WIB8BHF77XIG|B005G4YCHW|     269969003|Nature Made Prena...|          Beauty|          4|           69|         78|   N|                N| I liked these pills|I liked these pil...| 2015-08-31|\n",
            "|         US|   25415510|R20T4C0DA38YBD|B00ZORY924|     247229663|Gellen Temperatur...|          Beauty|          5|           22|         23|   N|                Y|IN LOVE! I was wo...|IN LOVE! I was wo...| 2015-08-31|\n",
            "|         US|    1094446| REUKY9DLNJXYF|B0084PXVX6|     236774785|Raw Unrefined Ivo...|          Beauty|          4|           21|         22|   N|                Y|       great product|I really love thi...| 2015-08-31|\n",
            "|         US|   23645612|R2OH5QLD7MGJTG|B0027VCNGO|      24106546|Seche Vite Dry Fa...|          Beauty|          5|           48|         48|   N|                Y| BEST top coat EVER!|I take my nail re...| 2015-08-31|\n",
            "|         US|   10721966|R179M7NOS1365W|B00OGUB23E|     638245716|Alina Skin Care V...|          Beauty|          5|           88|         91|   N|                Y|          Five Stars|                Good| 2015-08-31|\n",
            "|         US|   50463744|R2NPNCGM6T1JBA|B0076Q7WH0|     966701049|PURA D'OR Argan O...|          Beauty|          3|          253|        259|   N|                Y|Beware of fake re...|The main reason I...| 2015-08-31|\n",
            "|         US|   14798919|R345Z1BTFABFY0|B001E8WBP4|     981173576|Alpha Hydrox Eye ...|          Beauty|          1|           19|         22|   N|                Y|            One Star|GOOD TIME SHIPPIN...| 2015-08-31|\n",
            "|         US|   39761005|R2Z6FGGU3VNCT2|B00CHHJXYI|      55559071|Simple Cleansing ...|          Beauty|          1|           41|         46|   N|                N|NOT FOR SENSITIVE...|I used these and ...| 2015-08-31|\n",
            "+-----------+-----------+--------------+----------+--------------+--------------------+----------------+-----------+-------------+-----------+----+-----------------+--------------------+--------------------+-----------+\n",
            "only showing top 20 rows\n",
            "\n"
          ]
        }
      ]
    },
    {
      "cell_type": "code",
      "metadata": {
        "colab": {
          "base_uri": "https://localhost:8080/"
        },
        "id": "ocxipKluAlYd",
        "outputId": "904ca657-c703-4048-8d77-f7daf6487c65"
      },
      "source": [
        "# Create DF of Vine reviews\n",
        "paid_df = df_helpful.filter(df_helpful.vine == 'Y')\n",
        "paid_df.show()"
      ],
      "execution_count": 11,
      "outputs": [
        {
          "output_type": "stream",
          "name": "stdout",
          "text": [
            "+-----------+-----------+--------------+----------+--------------+--------------------+----------------+-----------+-------------+-----------+----+-----------------+--------------------+--------------------+-----------+\n",
            "|marketplace|customer_id|     review_id|product_id|product_parent|       product_title|product_category|star_rating|helpful_votes|total_votes|vine|verified_purchase|     review_headline|         review_body|review_date|\n",
            "+-----------+-----------+--------------+----------+--------------+--------------------+----------------+-----------+-------------+-----------+----+-----------------+--------------------+--------------------+-----------+\n",
            "|         US|   47770601|R106V6GUNWRSSS|B00YAR86BY|     136411552|Philips Sonicare ...|          Beauty|          5|          857|        889|   Y|                N|Improved build, g...|According to spec...| 2015-08-27|\n",
            "|         US|   52846213|R37N8KZS48W36A|B00YJJXJ06|     791197070|Maybelline New Yo...|          Beauty|          5|           36|         37|   Y|                N|See pictures comp...|I am a Lancôme pr...| 2015-08-26|\n",
            "|         US|   52833354|R1LNEQ2MQE03PD|B00YAR86BY|     136411552|Philips Sonicare ...|          Beauty|          5|           49|         66|   Y|                N|Super performance...|I've been using a...| 2015-08-24|\n",
            "|         US|   15209903|R1ECPWPUNK36ES|B00TTZEFUI|     398213708|Vidal Sassoon Hot...|          Beauty|          5|           29|         31|   Y|                N|Excellent Blower-...|Looking for a blo...| 2015-08-23|\n",
            "|         US|   24874450|R16BUM7UQZLOM6|B00QZ67KBK|       8891203|Philips Sonicare ...|          Beauty|          3|          107|        112|   Y|                N|Stick with the st...|Let me just start...| 2015-08-19|\n",
            "|         US|   42689422| R7NWIOCA5RVPR|B00MMRFUG8|     127431946|Remington D3190A ...|          Beauty|          5|           19|         26|   Y|                N|Love the \"cool sh...|Let me start with...| 2015-08-15|\n",
            "|         US|   51923814|R3NTGOCUZB33JK|B00YAR7ZL6|     776298388|Philips Sonicare ...|          Beauty|          5|           40|         47|   Y|                Y|Brushing Goes Bet...|If you are alread...| 2015-08-11|\n",
            "|         US|   52532594| RQX3RHGMG7UBN|B00MMRFUG8|     127431946|Remington D3190A ...|          Beauty|          5|          186|        200|   Y|                N|This hairdryer ha...|(UPDATE 10/13/16 ...| 2015-08-09|\n",
            "|         US|   15609090|R3E6QYKZDST042|B00TTZEFUI|     398213708|Vidal Sassoon Hot...|          Beauty|          4|           33|         39|   Y|                N|Curl Release Butt...|I had a hot air b...| 2015-08-03|\n",
            "|         US|   51800663|R2GR106PWUN85O|B00YXXQF22|     746299197|Curel Itch Defens...|          Beauty|          4|           36|         39|   Y|                N|Itchy, itchy, scr...|Everyone has a ta...| 2015-07-29|\n",
            "|         US|   49600435| R5AJK8HCOKXV5|B00HVNYIFW|     166207016|Pre de Provence S...|          Beauty|          4|           20|         23|   Y|                N|A Rose by Any Oth...|That's some copy ...| 2015-07-25|\n",
            "|         US|   52587452| RCHD0PMJO6Y52|B00Q23KDOM|     594835562|Jergens Natural G...|          Beauty|          3|           17|         20|   Y|                N|A crime against n...|First off, it's i...| 2015-07-25|\n",
            "|         US|   45260241|R1AF6ANE5JFP4D|B00YAR7ZL6|     776298388|Philips Sonicare ...|          Beauty|          5|           50|         55|   Y|                N|Succeeds brillian...|I use a sonicare ...| 2015-07-21|\n",
            "|         US|   16606481|R2FKVTMWD52KEY|B00UKP1M2K|     995218273|Maybelline New Yo...|          Beauty|          4|          265|        276|   Y|                N|Not bad, just ste...|This is not a hig...| 2015-07-10|\n",
            "|         US|   51744990| RZUT8OQAGWOYE|B00PFEFEAC|      77715070|L'Oreal Paris Sub...|          Beauty|          5|           46|         49|   Y|                N|Small Bottle Big Tan|I am quite impres...| 2015-07-02|\n",
            "|         US|   13610125| RW89H46BTJJWI|B00TI6TSLO|     158835237|Proactiv+ Emergen...|          Beauty|          2|           20|         20|   Y|                N|        Does Nothing|I gave this to my...| 2015-06-28|\n",
            "|         US|   51663540| RQ0N3J1IZKGMA|B00TI6TSLO|     158835237|Proactiv+ Emergen...|          Beauty|          1|           63|         63|   Y|                N| No improvement seen|I've used Proacti...| 2015-06-27|\n",
            "|         US|   30445854|R1Z88KA5VANTXS|B00WB84IRU|     763374312|Alba Botanica Haw...|          Beauty|          2|           42|         47|   Y|                N|It seems to perfo...|We received a can...| 2015-06-15|\n",
            "|         US|   36825966|R3M9NW8LPEKTWX|B00PFU5GXG|     694113541|TheraBreath PLUS ...|          Beauty|          5|           20|         21|   Y|                Y|HOORAY! I have a ...|UPDATE:  After st...| 2015-06-12|\n",
            "|         US|   48393616|R16QHBYJJ01R4P|B00PFEFEAC|      77715070|L'Oreal Paris Sub...|          Beauty|          5|           23|         24|   Y|                N|I won't use any o...|Here is what I re...| 2015-06-12|\n",
            "+-----------+-----------+--------------+----------+--------------+--------------------+----------------+-----------+-------------+-----------+----+-----------------+--------------------+--------------------+-----------+\n",
            "only showing top 20 rows\n",
            "\n"
          ]
        }
      ]
    },
    {
      "cell_type": "code",
      "metadata": {
        "colab": {
          "base_uri": "https://localhost:8080/"
        },
        "id": "EIDtKUFHBiAz",
        "outputId": "40ed8d7d-39ca-4790-f162-ba1387d58b06"
      },
      "source": [
        "# Create a DF of Non-Vine reviews\n",
        "unpaid_df = df_helpful.filter(df_helpful.vine == 'N')\n",
        "unpaid_df.show()"
      ],
      "execution_count": 12,
      "outputs": [
        {
          "output_type": "stream",
          "name": "stdout",
          "text": [
            "+-----------+-----------+--------------+----------+--------------+--------------------+----------------+-----------+-------------+-----------+----+-----------------+--------------------+--------------------+-----------+\n",
            "|marketplace|customer_id|     review_id|product_id|product_parent|       product_title|product_category|star_rating|helpful_votes|total_votes|vine|verified_purchase|     review_headline|         review_body|review_date|\n",
            "+-----------+-----------+--------------+----------+--------------+--------------------+----------------+-----------+-------------+-----------+----+-----------------+--------------------+--------------------+-----------+\n",
            "|         US|   22393078|R2QRUE9REK8OUC|B00461F4PA|     608719013|Baby Foot Exfolia...|          Beauty|          5|           18|         23|   N|                Y|Better Than Any Pedi|First off, I'll s...| 2015-08-31|\n",
            "|         US|   46053231|R2POXRW6PXHXZG|B00OCJZ0GE|     717345177|Bed Head Little T...|          Beauty|          5|           25|         30|   N|                Y|       Great Crimper|This is a great c...| 2015-08-31|\n",
            "|         US|   27682058|R29Q748WSHZ3SN|B001V9LQ0W|      44090072|AVEENO ACTIVE NAT...|          Beauty|          5|           23|         24|   N|                Y|Best hair restore...|This is fabulous ...| 2015-08-31|\n",
            "|         US|     333848| R46UL5G5HEPRZ|B00SX6XABO|     899819396|SnoreShield™ Adju...|          Beauty|          5|           18|         20|   N|                N|SnoreShield is aw...|I bought this ant...| 2015-08-31|\n",
            "|         US|   12553981|R2UQHSNWU6WTZX|B00HAT8EKW|     136225014|Moroccan Oil Sham...|          Beauty|          5|           74|         76|   N|                N|Love what the sha...|I love what both ...| 2015-08-31|\n",
            "|         US|   15257586|R2HSRI3D6E2M9Y|B004WOSOA8|     160713618|Vasocaine Numbing...|          Beauty|          5|           69|         71|   N|                Y|Best tattoo Spray...|Best tattoo Spray...| 2015-08-31|\n",
            "|         US|   19276831|R17ARFSDV555EW|B005WWQXB6|     807009289|Wet Brush Origina...|          Beauty|          1|           29|         29|   N|                Y|Better Than That ...|**Update!! Counte...| 2015-08-31|\n",
            "|         US|   42235766|R3GL5156FFEDQA|B000VPPUEA|     834747871|Bio-Oil Multiuse ...|          Beauty|          5|           20|         21|   N|                Y|This product works!!|This works!  Afte...| 2015-08-31|\n",
            "|         US|   30423413|R29KQJC9PIYWQS|B00V8PP7WC|      10772213|50, Clear, Empty,...|          Beauty|          5|           25|         26|   N|                Y|             Perfect|Work exactly as e...| 2015-08-31|\n",
            "|         US|   47837987| RYWUJT2A33VJH|B004VJ56AK|     495619476|Clarisonic Opal S...|          Beauty|          5|           20|         22|   N|                N|Her surgery was a...|I have had my Opa...| 2015-08-31|\n",
            "|         US|     314244|R1KH5L45CWI30I|B00SX6XABO|     899819396|SnoreShield™ Adju...|          Beauty|          5|           19|         20|   N|                N|      Give it a try!|One of my friend ...| 2015-08-31|\n",
            "|         US|    1407203|R1RKEBF47UEIVH|B00COGVWV4|     845309451|8 Lots Mix Color ...|          Beauty|          5|           26|         30|   N|                N|          Five Stars|Love it! Little h...| 2015-08-31|\n",
            "|         US|    2659185|R2WIB8BHF77XIG|B005G4YCHW|     269969003|Nature Made Prena...|          Beauty|          4|           69|         78|   N|                N| I liked these pills|I liked these pil...| 2015-08-31|\n",
            "|         US|   25415510|R20T4C0DA38YBD|B00ZORY924|     247229663|Gellen Temperatur...|          Beauty|          5|           22|         23|   N|                Y|IN LOVE! I was wo...|IN LOVE! I was wo...| 2015-08-31|\n",
            "|         US|    1094446| REUKY9DLNJXYF|B0084PXVX6|     236774785|Raw Unrefined Ivo...|          Beauty|          4|           21|         22|   N|                Y|       great product|I really love thi...| 2015-08-31|\n",
            "|         US|   23645612|R2OH5QLD7MGJTG|B0027VCNGO|      24106546|Seche Vite Dry Fa...|          Beauty|          5|           48|         48|   N|                Y| BEST top coat EVER!|I take my nail re...| 2015-08-31|\n",
            "|         US|   10721966|R179M7NOS1365W|B00OGUB23E|     638245716|Alina Skin Care V...|          Beauty|          5|           88|         91|   N|                Y|          Five Stars|                Good| 2015-08-31|\n",
            "|         US|   50463744|R2NPNCGM6T1JBA|B0076Q7WH0|     966701049|PURA D'OR Argan O...|          Beauty|          3|          253|        259|   N|                Y|Beware of fake re...|The main reason I...| 2015-08-31|\n",
            "|         US|   14798919|R345Z1BTFABFY0|B001E8WBP4|     981173576|Alpha Hydrox Eye ...|          Beauty|          1|           19|         22|   N|                Y|            One Star|GOOD TIME SHIPPIN...| 2015-08-31|\n",
            "|         US|   39761005|R2Z6FGGU3VNCT2|B00CHHJXYI|      55559071|Simple Cleansing ...|          Beauty|          1|           41|         46|   N|                N|NOT FOR SENSITIVE...|I used these and ...| 2015-08-31|\n",
            "+-----------+-----------+--------------+----------+--------------+--------------------+----------------+-----------+-------------+-----------+----+-----------------+--------------------+--------------------+-----------+\n",
            "only showing top 20 rows\n",
            "\n"
          ]
        }
      ]
    },
    {
      "cell_type": "code",
      "metadata": {
        "colab": {
          "base_uri": "https://localhost:8080/"
        },
        "id": "U4Rlg_fECKEN",
        "outputId": "8d2cf42c-30a0-4c96-c7a6-c7f1d8e4945b"
      },
      "source": [
        "# paid total number of reviews\n",
        "total_paid_reviews = paid_df.count()\n",
        "total_paid_reviews\n"
      ],
      "execution_count": 13,
      "outputs": [
        {
          "output_type": "execute_result",
          "data": {
            "text/plain": [
              "647"
            ]
          },
          "metadata": {},
          "execution_count": 13
        }
      ]
    },
    {
      "cell_type": "code",
      "metadata": {
        "colab": {
          "base_uri": "https://localhost:8080/"
        },
        "id": "Hdkuh9uFCZX_",
        "outputId": "34b04e2a-c372-4796-8c69-faad45b04dd5"
      },
      "source": [
        "# paid 5-star reviews\n",
        "paid_five_star_reviews = paid_df.filter(paid_df.star_rating == 5).count()\n",
        "paid_five_star_reviews"
      ],
      "execution_count": 14,
      "outputs": [
        {
          "output_type": "execute_result",
          "data": {
            "text/plain": [
              "229"
            ]
          },
          "metadata": {},
          "execution_count": 14
        }
      ]
    },
    {
      "cell_type": "code",
      "metadata": {
        "colab": {
          "base_uri": "https://localhost:8080/"
        },
        "id": "NbEC3ZlVCdR-",
        "outputId": "73fd4881-7b72-43f5-e187-36e0d98f3d5a"
      },
      "source": [
        "# paid 5-star reviews percentage\n",
        "paid_five_star_percent = (paid_five_star_reviews / total_paid_reviews) * 100\n",
        "paid_five_star_percent\n"
      ],
      "execution_count": 15,
      "outputs": [
        {
          "output_type": "execute_result",
          "data": {
            "text/plain": [
              "35.394126738794434"
            ]
          },
          "metadata": {},
          "execution_count": 15
        }
      ]
    },
    {
      "cell_type": "code",
      "metadata": {
        "colab": {
          "base_uri": "https://localhost:8080/"
        },
        "id": "BtPQnvLqCdgv",
        "outputId": "a4d479e4-2c4f-48ba-d3de-bf8b223cb39f"
      },
      "source": [
        "# unpaid total number of reviews\n",
        "total_unpaid_reviews = unpaid_df.count()\n",
        "total_unpaid_reviews"
      ],
      "execution_count": 16,
      "outputs": [
        {
          "output_type": "execute_result",
          "data": {
            "text/plain": [
              "74113"
            ]
          },
          "metadata": {},
          "execution_count": 16
        }
      ]
    },
    {
      "cell_type": "code",
      "metadata": {
        "colab": {
          "base_uri": "https://localhost:8080/"
        },
        "id": "1XD9K9imCvMx",
        "outputId": "6780f692-0fb2-4dbb-eae0-7ad376ab175b"
      },
      "source": [
        "# unpaid 5-star reviews\n",
        "unpaid_five_star_reviews = unpaid_df.filter(unpaid_df.star_rating == 5).count()\n",
        "unpaid_five_star_reviews"
      ],
      "execution_count": 17,
      "outputs": [
        {
          "output_type": "execute_result",
          "data": {
            "text/plain": [
              "43217"
            ]
          },
          "metadata": {},
          "execution_count": 17
        }
      ]
    },
    {
      "cell_type": "code",
      "metadata": {
        "colab": {
          "base_uri": "https://localhost:8080/"
        },
        "id": "97r0ZJICC2Wg",
        "outputId": "01ad2228-5000-4f28-f5b9-add56168c26b"
      },
      "source": [
        "# unpaid 5-star reviews percentage\n",
        "unpaid_five_star_percent = (unpaid_five_star_reviews / total_unpaid_reviews) * 100\n",
        "unpaid_five_star_percent"
      ],
      "execution_count": 18,
      "outputs": [
        {
          "output_type": "execute_result",
          "data": {
            "text/plain": [
              "58.312306882733125"
            ]
          },
          "metadata": {},
          "execution_count": 18
        }
      ]
    }
  ]
}